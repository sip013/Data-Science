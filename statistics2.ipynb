{
 "cells": [
  {
   "cell_type": "code",
   "execution_count": 16,
   "id": "eff4ece5",
   "metadata": {},
   "outputs": [],
   "source": [
    "import numpy as np\n",
    "import matplotlib.pyplot as plt\n",
    "import seaborn as sns"
   ]
  },
  {
   "cell_type": "code",
   "execution_count": 6,
   "id": "3f1c4930",
   "metadata": {},
   "outputs": [
    {
     "name": "stdout",
     "output_type": "stream",
     "text": [
      "[  -1  -15    0   -7   -3  -13    0   -6   -2    2    3   -2    4  -14\n",
      "    6    3  -13    0   10    1    5    4  167   -9   -9   -6   -5   -6\n",
      "    2    5   -3    4    5  -11    2    7   -3    4   -3    0  -10    5\n",
      "   -5    6    7  -10    5    4    2   -7 -215]\n"
     ]
    }
   ],
   "source": [
    "dataset = [ -0.179337  ,  -1.51466648,  -0.09558456,  -0.79190957,\n",
    "        -0.37071108,  -1.38494814,   0.08863661,  -0.68271529,\n",
    "        -0.28754225,   0.20314481,   0.35148482,  -0.29537482,\n",
    "         0.42581467,  -1.4760161 ,   0.62591979,   0.30510771,\n",
    "        -1.37383114,   0.06817071,   1.03664575,   0.1532029 ,\n",
    "         0.50309799,   0.4769076 ,  16.78730688,  -0.93788759,\n",
    "        -0.96756635,  -0.67904229,  -0.59509931,  -0.68473324,\n",
    "         0.20974842,   0.58703964,  -0.32466209,   0.43777424,\n",
    "         0.52763057,  -1.19539415,   0.29089468,   0.72771246,\n",
    "        -0.36549878,   0.41924221,  -0.35999247,  -0.08280612,\n",
    "        -1.06349378,   0.56408618,  -0.56256977,   0.67082209,\n",
    "         0.73608657,  -1.00989011,   0.54033378,   0.45377625,   0.20914972,  -0.7296482,-21.5678 ]\n",
    "dataset = 10*np.array(dataset)\n",
    "dataset = dataset.astype(int) # convert data to int\n",
    "print(dataset)"
   ]
  },
  {
   "cell_type": "code",
   "execution_count": 7,
   "id": "29a78d51",
   "metadata": {},
   "outputs": [],
   "source": [
    "outliers = []\n",
    "def detect_outliers(data):\n",
    "    threshold = 3\n",
    "    mean = np.mean(data)\n",
    "    std = np.std(data)\n",
    "    for i in data: \n",
    "        z_score = (i - mean)/std\n",
    "        if (np.abs(z_score))>threshold :\n",
    "            outliers.append(i)\n",
    "    return outliers"
   ]
  },
  {
   "cell_type": "code",
   "execution_count": 8,
   "id": "fc0de049",
   "metadata": {},
   "outputs": [
    {
     "name": "stdout",
     "output_type": "stream",
     "text": [
      "[167, -215]\n"
     ]
    }
   ],
   "source": [
    "print(detect_outliers(dataset))"
   ]
  },
  {
   "cell_type": "code",
   "execution_count": 17,
   "id": "851ad9ca",
   "metadata": {},
   "outputs": [
    {
     "data": {
      "text/plain": [
       "<Axes: >"
      ]
     },
     "execution_count": 17,
     "metadata": {},
     "output_type": "execute_result"
    },
    {
     "data": {
      "image/png": "[encoded data removed]",
      "text/plain": [
       "<Figure size 640x480 with 1 Axes>"
      ]
     },
     "metadata": {},
     "output_type": "display_data"
    }
   ],
   "source": [
    "# IQR\n",
    "# Sort the data\n",
    "# calculate the data\n",
    "# then find the upper and lower fence\n",
    "dataset = np.sort(dataset)\n",
    "q1,q3 = np.percentile(dataset,[25,75])\n",
    "iqr = q3-q1\n",
    "lo = q1 - (1.5*iqr)\n",
    "hi = q3 + 1.5*iqr\n",
    "sns.boxplot(dataset)"
   ]
  }
 ],
 "metadata": {
  "kernelspec": {
   "display_name": "Python 3 (ipykernel)",
   "language": "python",
   "name": "python3"
  },
  "language_info": {
   "codemirror_mode": {
    "name": "ipython",
    "version": 3
   },
   "file_extension": ".py",
   "mimetype": "text/x-python",
   "name": "python",
   "nbconvert_exporter": "python",
   "pygments_lexer": "ipython3",
   "version": "3.11.5"
  }
 },
 "nbformat": 4,
 "nbformat_minor": 5
}
