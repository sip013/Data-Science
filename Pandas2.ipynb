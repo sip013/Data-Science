{
 "cells": [
  {
   "cell_type": "code",
   "execution_count": 1,
   "id": "e5bb09d8",
   "metadata": {},
   "outputs": [
    {
     "name": "stdout",
     "output_type": "stream",
     "text": [
      "Index(['a', 'b', 'c', 'd'], dtype='object')\n",
      "[0.25 0.5  0.75 1.  ]\n",
      "<class 'pandas.core.series.Series'>\n",
      "<class 'numpy.ndarray'>\n",
      "<class 'pandas.core.indexes.base.Index'>\n",
      "0.25\n",
      "0.25\n",
      "0.5\n",
      "0.75\n",
      "a    0.25\n",
      "b    0.50\n",
      "dtype: float64\n",
      "c    0.75\n",
      "d    1.00\n",
      "dtype: float64\n"
     ]
    }
   ],
   "source": [
    "import pandas as pd\n",
    "data = pd.Series([0.25,0.5,0.75,1.0],index = ['a','b','c','d'])\n",
    "print(data.index)\n",
    "print(data.values)\n",
    "print(type(data),type(data.values),type(data.index),sep = \"\\n\")\n",
    "print(data[0])\n",
    "print(data['a'])\n",
    "print(data.values[1])\n",
    "print(data[data.index[2]])\n",
    "print(data[0:2])\n",
    "print(data['c':'d'])"
   ]
  },
  {
   "cell_type": "code",
   "execution_count": 2,
   "id": "d88e4818",
   "metadata": {},
   "outputs": [
    {
     "name": "stdout",
     "output_type": "stream",
     "text": [
      "A+    91\n",
      "A     81\n",
      "B+    71\n",
      "dtype: int64\n",
      "<class 'pandas.core.series.Series'>\n",
      "<class 'dict'>\n",
      "    Data  Grades\n",
      "A+   NaN    91.0\n"
     ]
    }
   ],
   "source": [
    "dict_grades = {'A+':91,'A':81,'B+':71}\n",
    "grades = pd.Series(dict_grades)\n",
    "print(grades)\n",
    "print(type(grades),type(dict_grades),sep = '\\n')\n",
    "df = pd.DataFrame({\"Data\":data,\"Grades\":dict_grades})\n",
    "print(df[1:2])"
   ]
  },
  {
   "cell_type": "code",
   "execution_count": 3,
   "id": "f50cf5b6",
   "metadata": {},
   "outputs": [
    {
     "name": "stdout",
     "output_type": "stream",
     "text": [
      "    Data  Grades\n",
      "A    NaN    81.0\n",
      "A+   NaN    91.0\n",
      "B+   NaN    71.0\n",
      "a   0.25     NaN\n",
      "b   0.50     NaN\n",
      "c   0.75     NaN\n",
      "d   1.00     NaN\n",
      "           A    A+    B+     a    b     c    d\n",
      "Data     NaN   NaN   NaN  0.25  0.5  0.75  1.0\n",
      "Grades  81.0  91.0  71.0   NaN  NaN   NaN  NaN\n",
      "[[  nan 81.  ]\n",
      " [  nan 91.  ]\n",
      " [  nan 71.  ]\n",
      " [ 0.25   nan]\n",
      " [ 0.5    nan]\n",
      " [ 0.75   nan]\n",
      " [ 1.     nan]]\n",
      "Index(['A', 'A+', 'B+', 'a', 'b', 'c', 'd'], dtype='object')\n",
      "Index(['Data', 'Grades'], dtype='object')\n",
      "A     8.1\n",
      "A+    9.1\n",
      "B+    7.1\n",
      "a     NaN\n",
      "b     NaN\n",
      "c     NaN\n",
      "d     NaN\n",
      "Name: Scaled GPA, dtype: float64\n"
     ]
    }
   ],
   "source": [
    "print(df,df.T,sep=\"\\n\")\n",
    "print(df.values)\n",
    "print(df.index)\n",
    "print(df.columns)\n",
    "df['Scaled GPA'] = df['Grades']/100 * 10 \n",
    "print(df['Scaled GPA'])\n",
    "del df['Scaled GPA']"
   ]
  },
  {
   "cell_type": "code",
   "execution_count": 7,
   "id": "4117d7aa",
   "metadata": {},
   "outputs": [
    {
     "name": "stdout",
     "output_type": "stream",
     "text": [
      "    Data  Grades\n",
      "A   0.25    81.0\n",
      "A+  0.25    91.0\n",
      "B+  0.25    71.0\n",
      "a   0.25    61.0\n",
      "b   0.50    61.0\n",
      "c   0.75    61.0\n",
      "d   1.00    61.0\n",
      "    Data  Grades\n",
      "A   0.25    81.0\n",
      "A+  0.25    91.0\n",
      "B+  0.25    71.0\n",
      "a   0.25    61.0\n",
      "b   0.50    61.0\n",
      "c   0.75    61.0\n",
      "d   1.00    61.0\n",
      "    Data  Grades\n",
      "A   0.25    81.0\n",
      "A+  0.25    91.0\n",
      "B+  0.25    71.0\n",
      "a   0.25    61.0\n",
      "b   0.50    61.0\n",
      "c   0.75    61.0\n",
      "d   1.00    61.0\n",
      "    Data  Grades\n",
      "A   0.25    81.0\n",
      "A+  0.25    91.0\n",
      "B+  0.25    71.0\n",
      "a   0.25    61.0\n",
      "b   0.50    61.0\n",
      "c   0.75    61.0\n",
      "d   1.00    61.0\n"
     ]
    }
   ],
   "source": [
    "print(df)\n",
    "print(df.fillna(7))\n",
    "df['Data'] = df['Data'].fillna(0.25)\n",
    "print(df)\n",
    "df['Grades'] = df['Grades'].fillna(61)\n",
    "print(df)\n",
    "df.dropna? # to del null values"
   ]
  }
 ],
 "metadata": {
  "kernelspec": {
   "display_name": "Python 3 (ipykernel)",
   "language": "python",
   "name": "python3"
  },
  "language_info": {
   "codemirror_mode": {
    "name": "ipython",
    "version": 3
   },
   "file_extension": ".py",
   "mimetype": "text/x-python",
   "name": "python",
   "nbconvert_exporter": "python",
   "pygments_lexer": "ipython3",
   "version": "3.11.5"
  }
 },
 "nbformat": 4,
 "nbformat_minor": 5
}
