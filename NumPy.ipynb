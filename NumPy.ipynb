{
 "cells": [
  {
   "cell_type": "code",
   "execution_count": 1,
   "id": "f857fd53",
   "metadata": {},
   "outputs": [
    {
     "name": "stdout",
     "output_type": "stream",
     "text": [
      "2\n"
     ]
    }
   ],
   "source": [
    "x = 3\n",
    "y = 2\n",
    "print(x and y)"
   ]
  },
  {
   "cell_type": "code",
   "execution_count": 2,
   "id": "7ce69bb6",
   "metadata": {},
   "outputs": [
    {
     "name": "stdout",
     "output_type": "stream",
     "text": [
      "[1, 2, 3, 4, 5, 10, 9, 8]\n",
      "[1, 2, 3, 5, 10, 9, 8]\n"
     ]
    }
   ],
   "source": [
    "lst = [1,2,3,4]\n",
    "lst.insert(4,5)\n",
    "lst.extend([10,9,8])\n",
    "print(lst)\n",
    "sum(lst)\n",
    "lst.pop(3)\n",
    "print(lst)"
   ]
  },
  {
   "cell_type": "code",
   "execution_count": 3,
   "id": "b3e5e479",
   "metadata": {},
   "outputs": [],
   "source": [
    "import numpy as np"
   ]
  },
  {
   "cell_type": "code",
   "execution_count": 4,
   "id": "7de812d2",
   "metadata": {},
   "outputs": [
    {
     "name": "stdout",
     "output_type": "stream",
     "text": [
      "[[ 1  2  3  4]\n",
      " [ 5  6  7  8]\n",
      " [ 9 10 11 12]]\n",
      "2\n"
     ]
    }
   ],
   "source": [
    "arr = np.array([[1,2,3,4],[5,6,7,8],[9,10,11,12]])\n",
    "print(arr)\n",
    "print(arr.ndim)"
   ]
  },
  {
   "cell_type": "code",
   "execution_count": 5,
   "id": "766cfb80",
   "metadata": {
    "scrolled": true
   },
   "outputs": [
    {
     "name": "stdout",
     "output_type": "stream",
     "text": [
      "<class 'numpy.ndarray'>\n",
      "(3, 4)\n",
      "12\n",
      "48\n"
     ]
    }
   ],
   "source": [
    "print(type(arr))\n",
    "print(arr.shape)\n",
    "print(arr.size)\n",
    "print(arr.nbytes)"
   ]
  },
  {
   "cell_type": "code",
   "execution_count": 6,
   "id": "5f6c7975",
   "metadata": {},
   "outputs": [
    {
     "name": "stdout",
     "output_type": "stream",
     "text": [
      "3\n"
     ]
    }
   ],
   "source": [
    "print(arr.reshape(2,6)[0,2])"
   ]
  },
  {
   "cell_type": "code",
   "execution_count": 7,
   "id": "2b78ba92",
   "metadata": {},
   "outputs": [
    {
     "name": "stdout",
     "output_type": "stream",
     "text": [
      "[0 3 6 9]\n",
      "[[ 1  2  3  4]\n",
      " [ 5  6  7  8]\n",
      " [ 9 10 11 12]]\n"
     ]
    }
   ],
   "source": [
    "lst = np.arange(0,10,3)\n",
    "print(lst)\n",
    "lst=arr.copy()\n",
    "print(arr)"
   ]
  },
  {
   "cell_type": "code",
   "execution_count": 8,
   "id": "d962da7d",
   "metadata": {},
   "outputs": [
    {
     "name": "stdout",
     "output_type": "stream",
     "text": [
      "[[0.26821522 0.74082577 0.42067049]\n",
      " [0.86963142 0.91277204 0.26997236]\n",
      " [0.23612557 0.1534276  0.46869017]]\n"
     ]
    }
   ],
   "source": [
    "a = np.random.rand(3,3)\n",
    "print(a)"
   ]
  },
  {
   "cell_type": "code",
   "execution_count": 9,
   "id": "24158389",
   "metadata": {},
   "outputs": [
    {
     "name": "stdout",
     "output_type": "stream",
     "text": [
      "[ 1.          1.18367347  1.36734694  1.55102041  1.73469388  1.91836735\n",
      "  2.10204082  2.28571429  2.46938776  2.65306122  2.83673469  3.02040816\n",
      "  3.20408163  3.3877551   3.57142857  3.75510204  3.93877551  4.12244898\n",
      "  4.30612245  4.48979592  4.67346939  4.85714286  5.04081633  5.2244898\n",
      "  5.40816327  5.59183673  5.7755102   5.95918367  6.14285714  6.32653061\n",
      "  6.51020408  6.69387755  6.87755102  7.06122449  7.24489796  7.42857143\n",
      "  7.6122449   7.79591837  7.97959184  8.16326531  8.34693878  8.53061224\n",
      "  8.71428571  8.89795918  9.08163265  9.26530612  9.44897959  9.63265306\n",
      "  9.81632653 10.        ]\n"
     ]
    }
   ],
   "source": [
    "b = np.linspace(1,10,50)\n",
    "print(b)"
   ]
  },
  {
   "cell_type": "code",
   "execution_count": 10,
   "id": "76297251",
   "metadata": {},
   "outputs": [],
   "source": [
    "np.round?\n",
    "np.linalg.inv?"
   ]
  },
  {
   "cell_type": "code",
   "execution_count": 12,
   "id": "ea3c39b3",
   "metadata": {},
   "outputs": [
    {
     "name": "stdout",
     "output_type": "stream",
     "text": [
      "a =  [[ 8]\n",
      " [27]] \n",
      "b =  [[85]\n",
      " [71]]\n",
      "hstack =  [[ 8 85]\n",
      " [27 71]] \n",
      "vstack =  [[ 8]\n",
      " [27]\n",
      " [85]\n",
      " [71]]\n",
      "rez1 =  [[ 8]\n",
      " [27]\n",
      " [85]\n",
      " [71]] \n",
      "rez2 =  [[ 8 85]\n",
      " [27 71]]\n"
     ]
    }
   ],
   "source": [
    "a = np.random.randint(1,50,size = (2,1))\n",
    "b = np.random.randint(51,100,size = (2,1))\n",
    "hstk = np.hstack((a,b))\n",
    "vstk = np.vstack((a,b))\n",
    "print(\"a = \",a,\"\\nb = \",b)\n",
    "print(\"hstack = \",hstk,\"\\nvstack = \",vstk)\n",
    "# we can use np.concat(axis = 1 or 0) to replace hstack and vstack\n",
    "rez1 = np.concatenate((a,b),axis = 0)\n",
    "rez2 = np.concatenate((a,b),axis = 1)#vertical concat\n",
    "print(\"rez1 = \",rez1,\"\\nrez2 = \",rez2)#horizontal concat"
   ]
  },
  {
   "cell_type": "code",
   "execution_count": 17,
   "id": "599a29f3",
   "metadata": {},
   "outputs": [
    {
     "name": "stdout",
     "output_type": "stream",
     "text": [
      "676 ms ± 50.3 ms per loop (mean ± std. dev. of 7 runs, 1 loop each)\n",
      "11.3 ms ± 252 µs per loop (mean ± std. dev. of 7 runs, 100 loops each)\n"
     ]
    }
   ],
   "source": [
    "b = np.random.rand(10000000)\n",
    "%timeit sum(b)\n",
    "%timeit np.sum(b)"
   ]
  }
 ],
 "metadata": {
  "kernelspec": {
   "display_name": "Python 3 (ipykernel)",
   "language": "python",
   "name": "python3"
  },
  "language_info": {
   "codemirror_mode": {
    "name": "ipython",
    "version": 3
   },
   "file_extension": ".py",
   "mimetype": "text/x-python",
   "name": "python",
   "nbconvert_exporter": "python",
   "pygments_lexer": "ipython3",
   "version": "3.11.5"
  }
 },
 "nbformat": 4,
 "nbformat_minor": 5
}
