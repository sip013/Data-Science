{
 "cells": [
  {
   "cell_type": "markdown",
   "id": "9acb60d7",
   "metadata": {},
   "source": [
    "# Given u = 100 and pop stddev = 15 n = 20 perform ztest."
   ]
  },
  {
   "cell_type": "code",
   "execution_count": 2,
   "id": "072f78d9",
   "metadata": {},
   "outputs": [
    {
     "data": {
      "text/plain": [
       "(1.5976240527147705, 0.1101266701438426)"
      ]
     },
     "execution_count": 2,
     "metadata": {},
     "output_type": "execute_result"
    }
   ],
   "source": [
    "from statsmodels.stats.weightstats import ztest as ztest\n",
    "data = [88,92,94,94,96,97,97,97,99,99,105,109,109,109,110,112,112,113,114,115]\n",
    "ztest(data,value = 100)"
   ]
  },
  {
   "cell_type": "code",
   "execution_count": 3,
   "id": "e67befa8",
   "metadata": {},
   "outputs": [
    {
     "name": "stdout",
     "output_type": "stream",
     "text": [
      "[61 39 50 69 17 72 21 79 27 31 40 71 39 18 20 77 10 69 41 51 47 68 69 19\n",
      " 19 30 24 33 43 38]\n"
     ]
    }
   ],
   "source": [
    "import numpy as np\n",
    "ages = np.random.randint(10,80,size = 30)\n",
    "print(ages)"
   ]
  },
  {
   "cell_type": "code",
   "execution_count": 5,
   "id": "3c2b08fc",
   "metadata": {},
   "outputs": [
    {
     "data": {
      "text/plain": [
       "43.06666666666667"
      ]
     },
     "execution_count": 5,
     "metadata": {},
     "output_type": "execute_result"
    }
   ],
   "source": [
    "age_mean = np.mean(ages)\n",
    "age_mean"
   ]
  },
  {
   "cell_type": "code",
   "execution_count": 7,
   "id": "782188d5",
   "metadata": {},
   "outputs": [],
   "source": [
    "sample_size = 10\n",
    "age_sample = np.random.choice(ages,sample_size)"
   ]
  },
  {
   "cell_type": "code",
   "execution_count": 8,
   "id": "c520b2b0",
   "metadata": {},
   "outputs": [],
   "source": [
    "from scipy.stats import ttest_1samp"
   ]
  },
  {
   "cell_type": "code",
   "execution_count": 10,
   "id": "82afa4ca",
   "metadata": {},
   "outputs": [
    {
     "data": {
      "text/plain": [
       "TtestResult(statistic=-0.4163589018533022, pvalue=0.6869011338439313, df=9)"
      ]
     },
     "execution_count": 10,
     "metadata": {},
     "output_type": "execute_result"
    }
   ],
   "source": [
    "ttest_1samp(age_sample,43)"
   ]
  }
 ],
 "metadata": {
  "kernelspec": {
   "display_name": "Python 3 (ipykernel)",
   "language": "python",
   "name": "python3"
  },
  "language_info": {
   "codemirror_mode": {
    "name": "ipython",
    "version": 3
   },
   "file_extension": ".py",
   "mimetype": "text/x-python",
   "name": "python",
   "nbconvert_exporter": "python",
   "pygments_lexer": "ipython3",
   "version": "3.11.5"
  }
 },
 "nbformat": 4,
 "nbformat_minor": 5
}
