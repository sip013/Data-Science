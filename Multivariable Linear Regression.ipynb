{
 "cells": [
  {
   "cell_type": "code",
   "execution_count": 2,
   "id": "8cccec6f",
   "metadata": {},
   "outputs": [],
   "source": [
    "import numpy as np\n",
    "import pandas as pd\n",
    "import matplotlib.pyplot as plt\n",
    "from sklearn import linear_model as lm"
   ]
  },
  {
   "cell_type": "code",
   "execution_count": 18,
   "id": "c578b34c",
   "metadata": {},
   "outputs": [],
   "source": [
    "df = pd.read_csv('HousePrices1.csv')\n",
    "df = df.fillna(value = int(df['bedrooms'].median())) #filling missing value with floor(median) of data"
   ]
  },
  {
   "cell_type": "code",
   "execution_count": 28,
   "id": "8477e83e",
   "metadata": {},
   "outputs": [
    {
     "name": "stdout",
     "output_type": "stream",
     "text": [
      "[488125.]\n",
      "383724.9999999998\n",
      "[   137.25 -26025.    -6825.  ]\n"
     ]
    },
    {
     "name": "stderr",
     "output_type": "stream",
     "text": [
      "C:\\ProgramData\\anaconda3\\Lib\\site-packages\\sklearn\\base.py:464: UserWarning: X does not have valid feature names, but LinearRegression was fitted with feature names\n",
      "  warnings.warn(\n"
     ]
    }
   ],
   "source": [
    "reg = lm.LinearRegression()\n",
    "pr = reg.fit(df[['area','bedrooms','age']],df['price'])\n",
    "pred = pr.predict([[1000,1,1]])\n",
    "print(pred)\n",
    "print(reg.intercept_,reg.coef_,sep = \"\\n\")"
   ]
  }
 ],
 "metadata": {
  "kernelspec": {
   "display_name": "Python 3 (ipykernel)",
   "language": "python",
   "name": "python3"
  },
  "language_info": {
   "codemirror_mode": {
    "name": "ipython",
    "version": 3
   },
   "file_extension": ".py",
   "mimetype": "text/x-python",
   "name": "python",
   "nbconvert_exporter": "python",
   "pygments_lexer": "ipython3",
   "version": "3.11.5"
  }
 },
 "nbformat": 4,
 "nbformat_minor": 5
}
